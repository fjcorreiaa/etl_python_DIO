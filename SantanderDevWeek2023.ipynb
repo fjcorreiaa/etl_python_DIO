{
  "cells": [
    {
      "cell_type": "markdown",
      "metadata": {
        "id": "view-in-github",
        "colab_type": "text"
      },
      "source": [
        "<a href=\"https://colab.research.google.com/github/fjcorreiaa/etl_python_DIO/blob/main/SantanderDevWeek2023.ipynb\" target=\"_parent\"><img src=\"https://colab.research.google.com/assets/colab-badge.svg\" alt=\"Open In Colab\"/></a>"
      ]
    },
    {
      "cell_type": "markdown",
      "metadata": {
        "id": "BPJQsTCULaC-"
      },
      "source": [
        "# Santander Dev Week 2023 (ETL com Python)"
      ]
    },
    {
      "cell_type": "markdown",
      "metadata": {
        "id": "k5fA5OrXt1a3"
      },
      "source": [
        "**Contexto:** Você é um cientista de dados no Santander e recebeu a tarefa de envolver seus clientes de maneira mais personalizada. Seu objetivo é usar o poder da IA Generativa para criar mensagens de marketing personalizadas que serão entregues a cada cliente.\n",
        "\n",
        "**Condições do Problema:**\n",
        "\n",
        "1. Você recebeu uma planilha simples, em formato CSV ('SDW2023.csv'), com uma lista de IDs de usuário do banco:\n",
        "  ```\n",
        "  UserID\n",
        "  1\n",
        "  2\n",
        "  3\n",
        "  4\n",
        "  5\n",
        "  ```\n",
        "2. Seu trabalho é consumir o endpoint `GET https://sdw-2023-prd.up.railway.app/users/{id}` (API da Santander Dev Week 2023) para obter os dados de cada cliente.\n",
        "3. Depois de obter os dados dos clientes, você vai usar a API do ChatGPT (OpenAI) para gerar uma mensagem de marketing personalizada para cada cliente. Essa mensagem deve enfatizar a importância dos investimentos.\n",
        "4. Uma vez que a mensagem para cada cliente esteja pronta, você vai enviar essas informações de volta para a API, atualizando a lista de \"news\" de cada usuário usando o endpoint `PUT https://sdw-2023-prd.up.railway.app/users/{id}`.\n",
        "\n"
      ]
    },
    {
      "cell_type": "code",
      "source": [
        "import pandas as pd\n",
        "import requests\n",
        "import json"
      ],
      "metadata": {
        "id": "PrEB2lyP_CQ0"
      },
      "execution_count": 1,
      "outputs": []
    },
    {
      "cell_type": "code",
      "source": [
        "# URL Endpoint\n",
        "# Repositório da API: https://github.com/digitalinnovationone/santander-dev-week-2023-api\n",
        "sdw2023_api_url = 'https://sdw-2023-prd.up.railway.app'"
      ],
      "metadata": {
        "id": "_NhNgs6EItu0"
      },
      "execution_count": 2,
      "outputs": []
    },
    {
      "cell_type": "markdown",
      "metadata": {
        "id": "9dfI-o7gLRq9"
      },
      "source": [
        "## **E**xtract\n",
        "\n",
        "Extraia a lista de IDs de usuário a partir do arquivo CSV. Para cada ID, faça uma requisição GET para obter os dados do usuário correspondente."
      ]
    },
    {
      "cell_type": "code",
      "execution_count": 3,
      "metadata": {
        "id": "NYydpX_GLRCB"
      },
      "outputs": [],
      "source": [
        "# df = pd.read_csv('users.csv')\n",
        "# user_ids = df['UserID'].tolist()\n",
        "\n",
        "ids = [1035, 1039, 1040, 1041, 1042]\n",
        "df = pd.DataFrame(ids, columns = ['UserID'])\n",
        "user_ids = ids"
      ]
    },
    {
      "cell_type": "code",
      "execution_count": 4,
      "metadata": {
        "id": "cNHm2i74cDNO"
      },
      "outputs": [],
      "source": [
        "def get_user(id):\n",
        "  response = requests.get(f'{sdw2023_api_url}/users/{id}')\n",
        "  return response.json() if response.status_code == 200 else None\n"
      ]
    },
    {
      "cell_type": "markdown",
      "metadata": {
        "id": "cWoqInB4TF1x"
      },
      "source": [
        "## **T**ransform\n",
        "\n",
        "Utilizando o limite de crédito do usuário para gerar uma news"
      ]
    },
    {
      "cell_type": "code",
      "source": [
        "# Função para obter o limite de um usuário\n",
        "def get_limit(user):\n",
        "    account = user.get('account')\n",
        "    if user:\n",
        "      user_limit = account.get(\"limit\")\n",
        "      return user_limit\n",
        "    else:\n",
        "      print(f'Falha ao obter limite do usuário {user.get(\"id\")}')\n",
        "      return None;\n"
      ],
      "metadata": {
        "id": "Pebz7916ub45"
      },
      "execution_count": 5,
      "outputs": []
    },
    {
      "cell_type": "code",
      "source": [
        "#Get User\n",
        "users = [get_user(id) for id in user_ids]\n",
        "\n",
        "#Get Limit\n",
        "limits = [get_limit(user) for user in users]\n",
        "\n",
        "df['limit_value'] = limits\n",
        "\n",
        "# Exibir o DataFrame resultante\n",
        "print(df)"
      ],
      "metadata": {
        "id": "5W81d5ySFFT5",
        "outputId": "609a23e4-d12f-48ba-92b2-524245133c98",
        "colab": {
          "base_uri": "https://localhost:8080/"
        }
      },
      "execution_count": 6,
      "outputs": [
        {
          "output_type": "stream",
          "name": "stdout",
          "text": [
            "   UserID  limit_value\n",
            "0    1035        700.0\n",
            "1    1039        100.0\n",
            "2    1040        100.0\n",
            "3    1041      50000.0\n",
            "4    1042        500.0\n"
          ]
        }
      ]
    },
    {
      "cell_type": "code",
      "source": [
        "def generate_ai_news(user):\n",
        "    limit_value = user.get('account', {}).get('limit', 0)\n",
        "\n",
        "    if limit_value < 300:\n",
        "        mensagem = f\"Olá {user.get('name')}! Precisando de mais limite? Temos uma solução imperdível para você.\"\n",
        "    else:\n",
        "        mensagem = f\"Olá {user.get('name')}! Aproveite o cashback em nossa loja virtual.\"\n",
        "\n",
        "    return mensagem"
      ],
      "metadata": {
        "id": "IernMy_fLjAh"
      },
      "execution_count": 11,
      "outputs": []
    },
    {
      "cell_type": "code",
      "source": [
        "for user in users:\n",
        "  news = generate_ai_news(user)\n",
        "  print(news)\n",
        "  user['news'].append({\n",
        "      \"icon\": \"https://digitalinnovationone.github.io/santander-dev-week-2023-api/icons/credit.svg\",\n",
        "      \"description\": news\n",
        "  })"
      ],
      "metadata": {
        "colab": {
          "base_uri": "https://localhost:8080/"
        },
        "id": "ChYIT2seLnJj",
        "outputId": "d1e752c3-4e90-4428-98b8-47257f0d4745"
      },
      "execution_count": 13,
      "outputs": [
        {
          "output_type": "stream",
          "name": "stdout",
          "text": [
            "Olá Luciana! Aproveite o cashback em nossa loja virtual.\n",
            "Olá Julio! Precisando de mais limite? Temos uma solução imperdível para você.\n",
            "Olá Ana! Precisando de mais limite? Temos uma solução imperdível para você.\n",
            "Olá Valter! Aproveite o cashback em nossa loja virtual.\n",
            "Olá Garfield! Aproveite o cashback em nossa loja virtual.\n"
          ]
        }
      ]
    },
    {
      "cell_type": "markdown",
      "source": [
        "## **Load**"
      ],
      "metadata": {
        "id": "fhrkVwQcLgAa"
      }
    },
    {
      "cell_type": "code",
      "source": [
        "def update_user(user):\n",
        "  response = requests.put(f\"{sdw2023_api_url}/users/{user['id']}\", json=user)\n",
        "  return True if response.status_code == 200 else False\n"
      ],
      "metadata": {
        "id": "fC1NK63aMe_T"
      },
      "execution_count": 14,
      "outputs": []
    },
    {
      "cell_type": "code",
      "source": [
        "for user in users:\n",
        "  success = update_user(user)\n",
        "  print(f\"User {user['name']} updated? {success}!\")"
      ],
      "metadata": {
        "colab": {
          "base_uri": "https://localhost:8080/"
        },
        "id": "l5vMB5HgMhIm",
        "outputId": "80415090-5823-4267-ed7b-78a16dc71987"
      },
      "execution_count": 15,
      "outputs": [
        {
          "output_type": "stream",
          "name": "stdout",
          "text": [
            "User Luciana updated? True!\n",
            "User Julio updated? True!\n",
            "User Ana updated? True!\n",
            "User Valter updated? True!\n",
            "User Garfield updated? True!\n"
          ]
        }
      ]
    }
  ],
  "metadata": {
    "colab": {
      "collapsed_sections": [
        "kNuP0SDUZMBY"
      ],
      "provenance": [],
      "include_colab_link": true
    },
    "kernelspec": {
      "display_name": "Python 3",
      "name": "python3"
    },
    "language_info": {
      "name": "python"
    }
  },
  "nbformat": 4,
  "nbformat_minor": 0
}